{
  "nbformat": 4,
  "nbformat_minor": 0,
  "metadata": {
    "colab": {
      "provenance": [],
      "gpuType": "T4"
    },
    "kernelspec": {
      "name": "python3",
      "display_name": "Python 3"
    },
    "language_info": {
      "name": "python"
    },
    "accelerator": "GPU"
  },
  "cells": [
    {
      "cell_type": "code",
      "execution_count": 1,
      "metadata": {
        "id": "97mLiVoqpusT"
      },
      "outputs": [],
      "source": [
        "import numpy as np\n",
        "from tensorflow.keras.datasets import imdb\n",
        "from tensorflow.keras.models import Sequential\n",
        "from tensorflow.keras.layers import Dense, Embedding, Flatten\n",
        "from tensorflow.keras.preprocessing.sequence import pad_sequences\n"
      ]
    },
    {
      "cell_type": "code",
      "source": [
        "\n",
        "# Load the IMDb dataset\n",
        "vocab_size = 10000\n",
        "max_len = 300\n",
        "(X_train, y_train), (X_test, y_test) = imdb.load_data(num_words=vocab_size)\n",
        "\n",
        "# Pad sequences to ensure uniform length\n",
        "X_train = pad_sequences(X_train, maxlen=max_len)\n",
        "X_test = pad_sequences(X_test, maxlen=max_len)\n"
      ],
      "metadata": {
        "colab": {
          "base_uri": "https://localhost:8080/"
        },
        "id": "3bTs7GOep0zc",
        "outputId": "6104d29b-1fcf-4b60-e65e-cac8edf117a7"
      },
      "execution_count": 2,
      "outputs": [
        {
          "output_type": "stream",
          "name": "stdout",
          "text": [
            "Downloading data from https://storage.googleapis.com/tensorflow/tf-keras-datasets/imdb.npz\n",
            "17464789/17464789 [==============================] - 0s 0us/step\n"
          ]
        }
      ]
    },
    {
      "cell_type": "code",
      "source": [
        "\n",
        "# Build the neural network model\n",
        "model = Sequential([\n",
        "    Embedding(input_dim=vocab_size, output_dim=32, input_length=max_len),\n",
        "    Flatten(),\n",
        "    Dense(16, activation='relu'),\n",
        "    Dense(1, activation='sigmoid')\n",
        "])\n"
      ],
      "metadata": {
        "id": "4BrC-3nIp9Kc"
      },
      "execution_count": 3,
      "outputs": []
    },
    {
      "cell_type": "code",
      "source": [
        "\n",
        "# Compile the model\n",
        "model.compile(optimizer='adam', loss='binary_crossentropy', metrics=['accuracy'])\n",
        "\n",
        "# Train the model\n",
        "history = model.fit(X_train, y_train, epochs=5, batch_size=128, validation_split=0.2)\n"
      ],
      "metadata": {
        "colab": {
          "base_uri": "https://localhost:8080/"
        },
        "id": "oNerW3nMp_FG",
        "outputId": "86519b37-15e5-48f3-ddf2-092ee0b5b1f8"
      },
      "execution_count": 4,
      "outputs": [
        {
          "output_type": "stream",
          "name": "stdout",
          "text": [
            "Epoch 1/5\n",
            "157/157 [==============================] - 24s 132ms/step - loss: 0.5383 - accuracy: 0.7001 - val_loss: 0.3122 - val_accuracy: 0.8712\n",
            "Epoch 2/5\n",
            "157/157 [==============================] - 16s 103ms/step - loss: 0.1985 - accuracy: 0.9247 - val_loss: 0.2852 - val_accuracy: 0.8818\n",
            "Epoch 3/5\n",
            "157/157 [==============================] - 10s 62ms/step - loss: 0.0739 - accuracy: 0.9822 - val_loss: 0.3169 - val_accuracy: 0.8798\n",
            "Epoch 4/5\n",
            "157/157 [==============================] - 9s 56ms/step - loss: 0.0232 - accuracy: 0.9973 - val_loss: 0.3537 - val_accuracy: 0.8758\n",
            "Epoch 5/5\n",
            "157/157 [==============================] - 8s 54ms/step - loss: 0.0088 - accuracy: 0.9995 - val_loss: 0.3863 - val_accuracy: 0.8768\n"
          ]
        }
      ]
    },
    {
      "cell_type": "code",
      "source": [
        "\n",
        "# Evaluate the model\n",
        "test_loss, test_accuracy = model.evaluate(X_test, y_test)\n",
        "print(\"Test Loss:\", test_loss)\n",
        "print(\"Test Accuracy:\", test_accuracy)\n"
      ],
      "metadata": {
        "colab": {
          "base_uri": "https://localhost:8080/"
        },
        "id": "D9RgHCcBqAwv",
        "outputId": "647a240d-f14b-4989-98c1-c33cc56a6201"
      },
      "execution_count": 5,
      "outputs": [
        {
          "output_type": "stream",
          "name": "stdout",
          "text": [
            "782/782 [==============================] - 2s 2ms/step - loss: 0.3885 - accuracy: 0.8728\n",
            "Test Loss: 0.3884889483451843\n",
            "Test Accuracy: 0.8728399872779846\n"
          ]
        }
      ]
    },
    {
      "cell_type": "code",
      "source": [],
      "metadata": {
        "id": "1LfP84B-qCz9"
      },
      "execution_count": null,
      "outputs": []
    }
  ]
}